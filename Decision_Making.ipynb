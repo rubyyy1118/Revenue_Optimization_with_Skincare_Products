{
 "cells": [
  {
   "cell_type": "code",
   "execution_count": 1,
   "metadata": {},
   "outputs": [
    {
     "name": "stdout",
     "output_type": "stream",
     "text": [
      "Requirement already satisfied: gurobipy in c:\\users\\ruby cheng\\anaconda3\\lib\\site-packages (11.0.0)\n"
     ]
    }
   ],
   "source": [
    "!pip install gurobipy"
   ]
  },
  {
   "cell_type": "code",
   "execution_count": 2,
   "metadata": {},
   "outputs": [
    {
     "name": "stdout",
     "output_type": "stream",
     "text": [
      "Set parameter Username\n",
      "Academic license - for non-commercial use only - expires 2025-01-25\n"
     ]
    }
   ],
   "source": [
    "from gurobipy import Model, GRB, quicksum\n",
    "import pandas as pd\n",
    "\n",
    "# Load data\n",
    "df = pd.read_excel('dataset.xlsx')\n",
    "# Remove currency symbol and convert price to float\n",
    "df['price'] = df['price'].str.replace('£', '').astype(float)\n",
    "# Exclude products containing \"SPF\" in their names (case insensitive)\n",
    "df = df[~df['product_name'].str.contains(\"SPF\", case=False)]\n",
    "\n",
    "# Create optimization model\n",
    "model = Model(\"Maximize_Revenue\")\n",
    "\n",
    "# Define skin types, budget ranges, and products\n",
    "skins = ['oily', 'normal_dry', 'combination']\n",
    "budgets = ['under_30', 'under_50', 'under_100']\n",
    "products = df['product_code'].unique().tolist()\n",
    "\n",
    "# Add decision variables for selecting products within skin types and budget ranges\n",
    "decision_variables = model.addVars(products, skins, budgets, vtype=GRB.BINARY, name=\"decision_variables\")\n",
    "\n",
    "# Percentages of customer base by skin type\n",
    "skin_type_percentages = {\"oily\": 0.159, \"normal_dry\": 0.485, \"combination\": 0.356}\n",
    "\n",
    "# Estimated number of customers\n",
    "estimated_customers = 1774\n",
    "\n",
    "# Set objective function to maximize total revenue\n",
    "# Revenue is calculated as the sum of product prices times the number of customers \n",
    "# times the percentage of customers with each skin type, for selected products across all skin types and budget ranges\n",
    "model.setObjective(\n",
    "    quicksum(\n",
    "        decision_variables[p, s, b] * df.loc[df['product_code'] == p, 'price'].values[0] * estimated_customers * skin_type_percentages[s]\n",
    "        for p in products\n",
    "        for s in skins\n",
    "        for b in budgets\n",
    "    ),\n",
    "    GRB.MAXIMIZE\n",
    ")"
   ]
  },
  {
   "cell_type": "code",
   "execution_count": 4,
   "metadata": {},
   "outputs": [],
   "source": [
    "# Required product types for each skin type and budget range\n",
    "required_products_by_skin_budget = {\n",
    "    ('normal_dry', 'under_30'): ['Toner', 'Serum'],\n",
    "    ('combination', 'under_30'): ['Toner', 'Serum'],\n",
    "    ('oily', 'under_30'): ['Mist', 'Serum'],\n",
    "    ('normal_dry', 'under_50'): ['Toner', 'Serum', 'Moisturiser'],\n",
    "    ('combination', 'under_50'): ['Toner', 'Serum', 'Peel'],\n",
    "    ('oily', 'under_50'): ['Mist', 'Serum', 'Exfoliator'],\n",
    "    ('normal_dry', 'under_100'): ['Toner', 'Serum', 'Moisturiser', 'Exfoliator', 'Oil'],\n",
    "    ('combination', 'under_100'): ['Toner', 'Serum', 'Peel', 'Exfoliator', 'Eye Care'],\n",
    "    ('oily', 'under_100'): ['Mist', 'Serum', 'Exfoliator', 'Peel', 'Eye Care']\n",
    "}\n",
    "\n",
    "# Adding constraints for required product types\n",
    "for (skin, budget), product_types in required_products_by_skin_budget.items():\n",
    "    for product_type in product_types:\n",
    "        products_of_type = df[df['product_type'] == product_type]['product_code'].tolist()\n",
    "        model.addConstr(quicksum(decision_variables[product, skin, budget] for product in products_of_type) >= 1, name=f\"constraint_{skin}_{budget}_{product_type}\")"
   ]
  },
  {
   "cell_type": "code",
   "execution_count": 5,
   "metadata": {},
   "outputs": [],
   "source": [
    "# Adding budget constraints\n",
    "budget_limits = {\n",
    "    'under_30': 30,\n",
    "    'under_50': 50,\n",
    "    'under_100': 100\n",
    "}\n",
    "\n",
    "for skin in skins:\n",
    "    for budget in budgets:\n",
    "        total_cost = quicksum(df.loc[df['product_code'] == p, 'price'].values[0] * decision_variables[p, skin, budget] for p in products)\n",
    "        model.addConstr(total_cost <= budget_limits[budget], name=f\"Budget_limit_{skin}_{budget}\")"
   ]
  },
  {
   "cell_type": "code",
   "execution_count": 6,
   "metadata": {},
   "outputs": [],
   "source": [
    "# Adding constraints for brand uniqueness\n",
    "brands = df['brand'].unique().tolist()\n",
    "\n",
    "for skin in skins:\n",
    "    for budget in budgets:\n",
    "        for brand in brands:\n",
    "            products_of_brand = df[df['brand'] == brand]['product_code'].tolist()\n",
    "            model.addConstr(quicksum(decision_variables[product, skin, budget] for product in products_of_brand if product in products) <= 1, name=f\"Unique_brand_{brand}_{skin}_{budget}\")"
   ]
  },
  {
   "cell_type": "code",
   "execution_count": 7,
   "metadata": {},
   "outputs": [],
   "source": [
    "# Adding constraints for product type uniqueness\n",
    "product_types = df['product_type'].unique().tolist()\n",
    "\n",
    "for skin in skins:\n",
    "    for budget in budgets:\n",
    "        for product_type in product_types:\n",
    "            products_of_type = df[df['product_type'] == product_type]['product_code'].tolist()\n",
    "            model.addConstr(quicksum(decision_variables[product, skin, budget] for product in products_of_type if product in products) <= 1, name=f\"Unique_product_type_{product_type}_{skin}_{budget}\")\n"
   ]
  },
  {
   "cell_type": "code",
   "execution_count": 8,
   "metadata": {},
   "outputs": [],
   "source": [
    "# Ensuring each product is selected at most once across all combinations\n",
    "for product in products:\n",
    "    model.addConstr(sum(decision_variables[product, skin, budget] for skin in skins for budget in budgets) <= 1, name=f\"Product_{product}_unique_across_all_gifts\")\n"
   ]
  },
  {
   "cell_type": "code",
   "execution_count": 9,
   "metadata": {},
   "outputs": [
    {
     "name": "stdout",
     "output_type": "stream",
     "text": [
      "Gurobi Optimizer version 11.0.0 build v11.0.0rc2 (win64 - Windows 11+.0 (22631.2))\n",
      "\n"
     ]
    },
    {
     "name": "stdout",
     "output_type": "stream",
     "text": [
      "CPU model: 11th Gen Intel(R) Core(TM) i5-1135G7 @ 2.40GHz, instruction set [SSE2|AVX|AVX2|AVX512]\n",
      "Thread count: 4 physical cores, 8 logical processors, using up to 8 threads\n",
      "\n",
      "Optimize a model with 2068 rows, 5517 columns and 26962 nonzeros\n",
      "Model fingerprint: 0xd6de14d3\n",
      "Variable types: 0 continuous, 5517 integer (5517 binary)\n",
      "Coefficient statistics:\n",
      "  Matrix range     [1e+00, 2e+02]\n",
      "  Objective range  [7e+02, 2e+05]\n",
      "  Bounds range     [1e+00, 1e+00]\n",
      "  RHS range        [1e+00, 1e+02]\n",
      "Found heuristic solution: objective 311500.95308\n",
      "Presolve removed 868 rows and 1542 columns\n",
      "Presolve time: 0.11s\n",
      "Presolved: 1200 rows, 3975 columns, 23841 nonzeros\n",
      "Variable types: 0 continuous, 3975 integer (3975 binary)\n",
      "Found heuristic solution: objective 318507.86280\n",
      "\n",
      "Root relaxation: objective 3.193200e+05, 1119 iterations, 0.03 seconds (0.02 work units)\n",
      "\n",
      "    Nodes    |    Current Node    |     Objective Bounds      |     Work\n",
      " Expl Unexpl |  Obj  Depth IntInf | Incumbent    BestBd   Gap | It/Node Time\n",
      "\n",
      "     0     0 319320.000    0   18 318507.863 319320.000  0.25%     -    0s\n",
      "H    0     0                    319083.02908 319320.000  0.07%     -    0s\n",
      "     0     0 319320.000    0   34 319083.029 319320.000  0.07%     -    0s\n",
      "H    0     0                    319320.00000 319320.000  0.00%     -    0s\n",
      "     0     0 319320.000    0   34 319320.000 319320.000  0.00%     -    0s\n",
      "\n",
      "Cutting planes:\n",
      "  Gomory: 4\n",
      "  Cover: 4\n",
      "  Clique: 4\n",
      "  MIR: 3\n",
      "  StrongCG: 3\n",
      "  GUB cover: 2\n",
      "  RLT: 1\n",
      "\n",
      "Explored 1 nodes (1342 simplex iterations) in 0.57 seconds (0.33 work units)\n",
      "Thread count was 8 (of 8 available processors)\n",
      "\n",
      "Solution count 4: 319320 319083 318508 311501 \n",
      "\n",
      "Optimal solution found (tolerance 1.00e-04)\n",
      "Best objective 3.193200000000e+05, best bound 3.193200000000e+05, gap 0.0000%\n"
     ]
    }
   ],
   "source": [
    "# Solve the problem\n",
    "model.optimize()"
   ]
  },
  {
   "cell_type": "code",
   "execution_count": 11,
   "metadata": {},
   "outputs": [
    {
     "name": "stdout",
     "output_type": "stream",
     "text": [
      "decision_variables[63,normal_dry,under_100] = 1.0\n",
      "decision_variables[95,normal_dry,under_50] = 1.0\n",
      "decision_variables[116,combination,under_100] = 1.0\n",
      "decision_variables[121,combination,under_50] = 1.0\n",
      "decision_variables[122,oily,under_30] = 1.0\n",
      "decision_variables[123,oily,under_50] = 1.0\n",
      "decision_variables[132,normal_dry,under_30] = 1.0\n",
      "decision_variables[138,normal_dry,under_50] = 1.0\n",
      "decision_variables[148,combination,under_30] = 1.0\n",
      "decision_variables[183,oily,under_100] = 1.0\n",
      "decision_variables[200,normal_dry,under_100] = 1.0\n",
      "decision_variables[229,normal_dry,under_100] = 1.0\n",
      "decision_variables[308,oily,under_30] = 1.0\n",
      "decision_variables[310,combination,under_50] = 1.0\n",
      "decision_variables[322,oily,under_50] = 1.0\n",
      "decision_variables[352,oily,under_100] = 1.0\n",
      "decision_variables[569,normal_dry,under_100] = 1.0\n",
      "decision_variables[573,oily,under_30] = 1.0\n",
      "decision_variables[575,combination,under_100] = 1.0\n",
      "decision_variables[584,combination,under_50] = 1.0\n",
      "decision_variables[595,oily,under_100] = 1.0\n",
      "decision_variables[613,oily,under_100] = 1.0\n",
      "decision_variables[636,combination,under_100] = 1.0\n",
      "decision_variables[679,oily,under_30] = 1.0\n",
      "decision_variables[819,normal_dry,under_30] = 1.0\n",
      "decision_variables[821,combination,under_50] = 1.0\n",
      "decision_variables[823,combination,under_30] = 1.0\n",
      "decision_variables[830,normal_dry,under_100] = 1.0\n",
      "decision_variables[840,combination,under_100] = 1.0\n",
      "decision_variables[850,normal_dry,under_50] = 1.0\n",
      "decision_variables[917,oily,under_50] = 1.0\n",
      "decision_variables[923,combination,under_100] = 1.0\n",
      "decision_variables[925,normal_dry,under_100] = 1.0\n",
      "decision_variables[938,oily,under_100] = 1.0\n"
     ]
    }
   ],
   "source": [
    "# print the result\n",
    "for v in model.getVars():\n",
    "    if v.x > 0:  \n",
    "        print(f\"{v.varName} = {v.x}\")"
   ]
  },
  {
   "cell_type": "code",
   "execution_count": 12,
   "metadata": {},
   "outputs": [
    {
     "name": "stdout",
     "output_type": "stream",
     "text": [
      "                       under_30            under_50  \\\n",
      "oily         122, 308, 573, 679       123, 322, 917   \n",
      "normal_dry             132, 819        95, 138, 850   \n",
      "combination            148, 823  121, 310, 584, 821   \n",
      "\n",
      "                               under_100  \n",
      "oily             183, 352, 595, 613, 938  \n",
      "normal_dry   63, 200, 229, 569, 830, 925  \n",
      "combination      116, 575, 636, 840, 923  \n"
     ]
    }
   ],
   "source": [
    "# Initialize an empty DataFrame as a matrix\n",
    "matrix_df = pd.DataFrame(index=skins, columns=budgets, dtype='object')\n",
    "\n",
    "# Initialize an empty list for each cell in the DataFrame\n",
    "for skin in skins:\n",
    "    for budget in budgets:\n",
    "        matrix_df.at[skin, budget] = []\n",
    "\n",
    "# Iterate through decision variables, if a product is selected, then add it to the respective cell\n",
    "for v in model.getVars():\n",
    "    if v.x > 0:  # If the product is selected\n",
    "        # Parse product_code, skin, budget from the variable name\n",
    "        details = v.varName.split('[')[1].split(']')[0].split(',')\n",
    "        product_code = details[0]\n",
    "        skin = details[1].strip().strip('\"')\n",
    "        budget = details[2].strip().strip('\"')\n",
    "        \n",
    "        # Add product_code to the corresponding cell\n",
    "        matrix_df.at[skin, budget].append(product_code)\n",
    "\n",
    "# Convert the list in each cell to a string for easy printing and viewing\n",
    "for skin in skins:\n",
    "    for budget in budgets:\n",
    "        matrix_df.at[skin, budget] = ', '.join(matrix_df.at[skin, budget])\n",
    "\n",
    "# Print the result\n",
    "print(matrix_df)\n",
    "\n"
   ]
  },
  {
   "cell_type": "code",
   "execution_count": 19,
   "metadata": {},
   "outputs": [
    {
     "name": "stdout",
     "output_type": "stream",
     "text": [
      "Total Revenue: £319320.00\n"
     ]
    }
   ],
   "source": [
    "total_revenue = 0\n",
    "\n",
    "for v in model.getVars():\n",
    "    if v.x > 0:  # Only consider selected products\n",
    "        # Parse product_code, skin_type from the variable name\n",
    "        parts = v.varName.split('[')[1].split(']')[0].split(',')\n",
    "        product_code = parts[0].strip().strip('\"')\n",
    "        skin_type = parts[1].strip().strip('\"')\n",
    "        \n",
    "        # Find the corresponding price\n",
    "        matched_prices = df.loc[df['product_code'].astype(str) == str(product_code), 'price'].values\n",
    "        \n",
    "        if len(matched_prices) > 0:\n",
    "            price = matched_prices[0]\n",
    "            # Calculate the contribution of this product to total revenue\n",
    "            revenue_contribution = price * v.x * estimated_customers * skin_type_percentages[skin_type]\n",
    "            total_revenue += revenue_contribution\n",
    "        else:\n",
    "            print(f\"Price not found for product_code: {product_code}\")\n",
    "\n",
    "print(f\"Total Revenue: £{total_revenue:.2f}\")\n",
    "\n",
    "\n",
    "\n"
   ]
  }
 ],
 "metadata": {
  "kernelspec": {
   "display_name": "base",
   "language": "python",
   "name": "python3"
  },
  "language_info": {
   "codemirror_mode": {
    "name": "ipython",
    "version": 3
   },
   "file_extension": ".py",
   "mimetype": "text/x-python",
   "name": "python",
   "nbconvert_exporter": "python",
   "pygments_lexer": "ipython3",
   "version": "3.11.5"
  }
 },
 "nbformat": 4,
 "nbformat_minor": 2
}
